{
 "cells": [
  {
   "cell_type": "code",
   "execution_count": 1,
   "metadata": {},
   "outputs": [],
   "source": [
    "import numpy"
   ]
  },
  {
   "cell_type": "code",
   "execution_count": 2,
   "metadata": {},
   "outputs": [],
   "source": [
    "def sigmoid(inpt):\n",
    "    return 1.0/(1.0+numpy.exp(-1*inpt))"
   ]
  },
  {
   "cell_type": "code",
   "execution_count": 3,
   "metadata": {},
   "outputs": [],
   "source": [
    "def relu(inpt):\n",
    "    result = inpt\n",
    "    result[inpt<0] = 0\n",
    "    return result"
   ]
  },
  {
   "cell_type": "code",
   "execution_count": 4,
   "metadata": {},
   "outputs": [],
   "source": [
    "def predict_outputs(weights_mat, data_inputs, data_outputs, activation = \"relu\"):\n",
    "    predictions = numpy.zeros(shape=(data_inputs.shape[0]))\n",
    "    for sample_idx in range(data_inputs.shape[0]):\n",
    "        r1 = data_inputs[sample_idx, :]\n",
    "        for curr_weights in weights_mat:\n",
    "            r1 = numpy.matmul(r1, curr_weights)\n",
    "            if activation == \"relu\":\n",
    "                r1 = relu(r1)\n",
    "            elif activation == \"sigmoid\":\n",
    "                r1 = sigmoid(r1)\n",
    "        predicted_label = numpy.where(r1 == numpy.max(r1))[0][0]\n",
    "        predictions[sample_idx] = predicted_label\n",
    "        correct_predictions = numpy.whre(predictions == data_outputs)[0].size\n",
    "        accuracy = (correct_predictions/data_outputs.size)*100\n",
    "        return accuracy.predictions"
   ]
  },
  {
   "cell_type": "code",
   "execution_count": 5,
   "metadata": {},
   "outputs": [],
   "source": [
    "def fitness (weights_mat, data_inputs, data_outputs, activation=\"relu\"):\n",
    "    accuracy = numpy.empty(shape=(weights_mat.shape[0]))\n",
    "    for sol_idx in range(weights_mat.shape[0]):\n",
    "        curr_sol_mat = weights_mat[sol_idx, :]\n",
    "        accuracy[sol_idx], _ =predict_outputs(curr_sol_mat, data_inputs, data_outputs, activation = activation)\n",
    "        return accuracy"
   ]
  },
  {
   "cell_type": "code",
   "execution_count": null,
   "metadata": {},
   "outputs": [],
   "source": []
  }
 ],
 "metadata": {
  "kernelspec": {
   "display_name": "Python 3",
   "language": "python",
   "name": "python3"
  },
  "language_info": {
   "codemirror_mode": {
    "name": "ipython",
    "version": 3
   },
   "file_extension": ".py",
   "mimetype": "text/x-python",
   "name": "python",
   "nbconvert_exporter": "python",
   "pygments_lexer": "ipython3",
   "version": "3.7.3"
  }
 },
 "nbformat": 4,
 "nbformat_minor": 2
}
